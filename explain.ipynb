{
 "cells": [
  {
   "cell_type": "markdown",
   "metadata": {},
   "source": [
    "# Azure Deployment Stacks\n",
    "In this Notebook we are going to take a look at Azure Deployment Stacks. A tool to better manage your resource deployements.\n",
    "We will look into the it's capabilities and why you might want to use it."
   ]
  },
  {
   "cell_type": "markdown",
   "metadata": {},
   "source": [
    "First, lets setup our environment"
   ]
  },
  {
   "cell_type": "code",
   "metadata": {
    "vscode": {
     "languageId": "shellscript"
    },
    "jupyter": {
     "is_executing": true
    },
    "ExecuteTime": {
     "start_time": "2024-05-30T10:54:05.544978Z"
    }
   },
   "source": [
    "!az stack group create --name 'stack1' --resource-group 'stacks' --template-file './originals/deployment_1.bicep' --description 'First azure function' --deny-settings-mode None --yes"
   ],
   "outputs": [
    {
     "name": "stdout",
     "output_type": "stream",
     "text": [
      "\u001B[K \\ Running ..\r"
     ]
    }
   ],
   "execution_count": null
  },
  {
   "cell_type": "code",
   "metadata": {
    "vscode": {
     "languageId": "shellscript"
    },
    "jupyter": {
     "is_executing": true
    }
   },
   "source": [
    "!az stack group create --name 'stack3' --resource-group 'stacks' --template-file './originals/deployment_3.bicep' --description 'Third azure function' --deny-settings-mode None --yes"
   ],
   "outputs": [],
   "execution_count": null
  },
  {
   "cell_type": "markdown",
   "metadata": {},
   "source": [
    "## On edit\n",
    "The commands below show what happens if something gets edited\n",
    "\n",
    "  \n",
    "  "
   ]
  },
  {
   "cell_type": "code",
   "metadata": {
    "vscode": {
     "languageId": "shellscript"
    },
    "ExecuteTime": {
     "end_time": "2024-05-29T20:14:43.524339Z",
     "start_time": "2024-05-29T20:11:08.969438Z"
    }
   },
   "source": [
    "!az stack group create --name 'stack1' --resource-group 'stacks' --template-file './edited/deployment_1.bicep' --deny-settings-mode None --action-on-unmanage deleteResources --yes"
   ],
   "outputs": [
    {
     "name": "stdout",
     "output_type": "stream",
     "text": [
      "\u001B[K{- Finished ..\r\n",
      "  \"actionOnUnmanage\": {\r\n",
      "    \"managementGroups\": \"detach\",\r\n",
      "    \"resourceGroups\": \"detach\",\r\n",
      "    \"resources\": \"delete\"\r\n",
      "  },\r\n",
      "  \"debugSetting\": null,\r\n",
      "  \"deletedResources\": [\r\n",
      "    {\r\n",
      "      \"id\": \"/subscriptions/7f1f09f1-46c7-4d90-b00b-e69d5fb05c28/resourceGroups/stacks/providers/Microsoft.Storage/storageAccounts/cldrpblcmvlfunc1stor\",\r\n",
      "      \"resourceGroup\": \"stacks\"\r\n",
      "    },\r\n",
      "    {\r\n",
      "      \"id\": \"/subscriptions/7f1f09f1-46c7-4d90-b00b-e69d5fb05c28/resourceGroups/stacks/providers/Microsoft.Storage/storageAccounts/cldrpblcmvlfunc1stor/fileServices/default\",\r\n",
      "      \"resourceGroup\": \"stacks\"\r\n",
      "    },\r\n",
      "    {\r\n",
      "      \"id\": \"/subscriptions/7f1f09f1-46c7-4d90-b00b-e69d5fb05c28/resourceGroups/stacks/providers/Microsoft.Storage/storageAccounts/cldrpblcmvlfunc1stor/tableServices/default\",\r\n",
      "      \"resourceGroup\": \"stacks\"\r\n",
      "    },\r\n",
      "    {\r\n",
      "      \"id\": \"/subscriptions/7f1f09f1-46c7-4d90-b00b-e69d5fb05c28/resourceGroups/stacks/providers/Microsoft.Web/serverfarms/cldrpblcmvlfunc1plan\",\r\n",
      "      \"resourceGroup\": \"stacks\"\r\n",
      "    },\r\n",
      "    {\r\n",
      "      \"id\": \"/subscriptions/7f1f09f1-46c7-4d90-b00b-e69d5fb05c28/resourceGroups/stacks/providers/Microsoft.Web/sites/cldrpblcmvlfunc1\",\r\n",
      "      \"resourceGroup\": \"stacks\"\r\n",
      "    },\r\n",
      "    {\r\n",
      "      \"id\": \"/subscriptions/7f1f09f1-46c7-4d90-b00b-e69d5fb05c28/resourceGroups/stacks/providers/Microsoft.Web/sites/cldrpblcmvlfunc1/slots/staging\",\r\n",
      "      \"resourceGroup\": \"stacks\"\r\n",
      "    }\r\n",
      "  ],\r\n",
      "  \"denySettings\": {\r\n",
      "    \"applyToChildScopes\": false,\r\n",
      "    \"excludedActions\": null,\r\n",
      "    \"excludedPrincipals\": null,\r\n",
      "    \"mode\": \"none\"\r\n",
      "  },\r\n",
      "  \"deploymentId\": \"/subscriptions/7f1f09f1-46c7-4d90-b00b-e69d5fb05c28/resourceGroups/stacks/providers/Microsoft.Resources/deployments/stack1-2405292039u8b\",\r\n",
      "  \"deploymentScope\": null,\r\n",
      "  \"description\": null,\r\n",
      "  \"detachedResources\": [],\r\n",
      "  \"duration\": \"PT3M27.9186319S\",\r\n",
      "  \"error\": null,\r\n",
      "  \"failedResources\": [],\r\n",
      "  \"id\": \"/subscriptions/7f1f09f1-46c7-4d90-b00b-e69d5fb05c28/resourceGroups/stacks/providers/Microsoft.Resources/deploymentStacks/stack1\",\r\n",
      "  \"location\": null,\r\n",
      "  \"name\": \"stack1\",\r\n",
      "  \"outputs\": null,\r\n",
      "  \"parameters\": {},\r\n",
      "  \"parametersLink\": null,\r\n",
      "  \"provisioningState\": \"succeeded\",\r\n",
      "  \"resourceGroup\": \"stacks\",\r\n",
      "  \"resources\": [\r\n",
      "    {\r\n",
      "      \"denyStatus\": \"none\",\r\n",
      "      \"id\": \"/subscriptions/7f1f09f1-46c7-4d90-b00b-e69d5fb05c28/resourceGroups/stacks/providers/Microsoft.Storage/storageAccounts/cldrpblcfunc1editstor\",\r\n",
      "      \"resourceGroup\": \"stacks\",\r\n",
      "      \"status\": \"managed\"\r\n",
      "    },\r\n",
      "    {\r\n",
      "      \"denyStatus\": \"none\",\r\n",
      "      \"id\": \"/subscriptions/7f1f09f1-46c7-4d90-b00b-e69d5fb05c28/resourceGroups/stacks/providers/Microsoft.Storage/storageAccounts/cldrpblcfunc1editstor/fileServices/default\",\r\n",
      "      \"resourceGroup\": \"stacks\",\r\n",
      "      \"status\": \"managed\"\r\n",
      "    },\r\n",
      "    {\r\n",
      "      \"denyStatus\": \"none\",\r\n",
      "      \"id\": \"/subscriptions/7f1f09f1-46c7-4d90-b00b-e69d5fb05c28/resourceGroups/stacks/providers/Microsoft.Storage/storageAccounts/cldrpblcfunc1editstor/tableServices/default\",\r\n",
      "      \"resourceGroup\": \"stacks\",\r\n",
      "      \"status\": \"managed\"\r\n",
      "    },\r\n",
      "    {\r\n",
      "      \"denyStatus\": \"none\",\r\n",
      "      \"id\": \"/subscriptions/7f1f09f1-46c7-4d90-b00b-e69d5fb05c28/resourceGroups/stacks/providers/Microsoft.Web/serverfarms/cldrpblcfunc1editplan\",\r\n",
      "      \"resourceGroup\": \"stacks\",\r\n",
      "      \"status\": \"managed\"\r\n",
      "    },\r\n",
      "    {\r\n",
      "      \"denyStatus\": \"none\",\r\n",
      "      \"id\": \"/subscriptions/7f1f09f1-46c7-4d90-b00b-e69d5fb05c28/resourceGroups/stacks/providers/Microsoft.Web/sites/cldrpblcfunc1edit\",\r\n",
      "      \"resourceGroup\": \"stacks\",\r\n",
      "      \"status\": \"managed\"\r\n",
      "    },\r\n",
      "    {\r\n",
      "      \"denyStatus\": \"none\",\r\n",
      "      \"id\": \"/subscriptions/7f1f09f1-46c7-4d90-b00b-e69d5fb05c28/resourceGroups/stacks/providers/Microsoft.Web/sites/cldrpblcfunc1edit/slots/staging\",\r\n",
      "      \"resourceGroup\": \"stacks\",\r\n",
      "      \"status\": \"managed\"\r\n",
      "    }\r\n",
      "  ],\r\n",
      "  \"systemData\": {\r\n",
      "    \"createdAt\": \"2024-05-29T14:18:58.694342+00:00\",\r\n",
      "    \"createdBy\": \"3dad33bc-5903-461c-95c4-a9b0ba070e3c\",\r\n",
      "    \"createdByType\": \"Application\",\r\n",
      "    \"lastModifiedAt\": \"2024-05-29T20:11:11.406061+00:00\",\r\n",
      "    \"lastModifiedBy\": \"3dad33bc-5903-461c-95c4-a9b0ba070e3c\",\r\n",
      "    \"lastModifiedByType\": \"Application\"\r\n",
      "  },\r\n",
      "  \"tags\": {},\r\n",
      "  \"template\": null,\r\n",
      "  \"templateLink\": null,\r\n",
      "  \"type\": \"Microsoft.Resources/deploymentStacks\"\r\n",
      "}\r\n"
     ]
    }
   ],
   "execution_count": 12
  },
  {
   "cell_type": "code",
   "metadata": {
    "vscode": {
     "languageId": "shellscript"
    },
    "ExecuteTime": {
     "end_time": "2024-05-29T17:20:22.564694Z",
     "start_time": "2024-05-29T17:19:49.311018Z"
    }
   },
   "source": [
    "!az stack group create --name 'stack3' --resource-group 'stacks' --template-file './edited/deployment_3.bicep' --deny-settings-mode None --action-on-unmanage deleteResources --yes"
   ],
   "outputs": [
    {
     "name": "stdout",
     "output_type": "stream",
     "text": [
      "\u001B[K\u001B[KInterrupted ..\u001B[91m(DeploymentStackDeploymentFailed) One or more resources could not be deployed. Correlation id: '30c5ab2f-51df-49a7-b5ed-b300bdf77249'.\r\n",
      "Code: DeploymentStackDeploymentFailed\r\n",
      "Message: One or more resources could not be deployed. Correlation id: '30c5ab2f-51df-49a7-b5ed-b300bdf77249'.\r\n",
      "Exception Details:\t(DeploymentFailed) At least one resource deployment operation failed. Please list deployment operations for details. Please see https://aka.ms/arm-deployment-operations for usage details.\r\n",
      "\tCode: DeploymentFailed\r\n",
      "\tMessage: At least one resource deployment operation failed. Please list deployment operations for details. Please see https://aka.ms/arm-deployment-operations for usage details.\r\n",
      "\tTarget: /subscriptions/7f1f09f1-46c7-4d90-b00b-e69d5fb05c28/resourceGroups/stacks/providers/Microsoft.Resources/deployments/stack3-240529175t65r\r\n",
      "\tException Details:\t(InvalidResourceLocation) The resource 'cldrpblcmvlfunc3stor' already exists in location 'westeurope' in resource group 'stacks'. A resource with the same name cannot be created in location 'eastus'. Please select a new resource name.\r\n",
      "\t\tCode: InvalidResourceLocation\r\n",
      "\t\tMessage: The resource 'cldrpblcmvlfunc3stor' already exists in location 'westeurope' in resource group 'stacks'. A resource with the same name cannot be created in location 'eastus'. Please select a new resource name.\u001B[0m\r\n"
     ]
    }
   ],
   "execution_count": 7
  },
  {
   "cell_type": "markdown",
   "metadata": {},
   "source": [
    "## Security\n",
    "\n",
    "Protect your resources against manual interventions"
   ]
  },
  {
   "cell_type": "code",
   "metadata": {
    "vscode": {
     "languageId": "shellscript"
    },
    "ExecuteTime": {
     "end_time": "2024-05-29T20:19:50.502953Z",
     "start_time": "2024-05-29T20:18:15.650770Z"
    }
   },
   "source": "!az stack group create --name 'stack1' --resource-group 'stacks' --template-file './edited/deployment_1.bicep' --deny-settings-mode denyDelete --action-on-unmanage deleteResources --yes",
   "outputs": [
    {
     "name": "stdout",
     "output_type": "stream",
     "text": [
      "\u001B[K{\\ Finished ..\r\n",
      "  \"actionOnUnmanage\": {\r\n",
      "    \"managementGroups\": \"detach\",\r\n",
      "    \"resourceGroups\": \"detach\",\r\n",
      "    \"resources\": \"delete\"\r\n",
      "  },\r\n",
      "  \"debugSetting\": null,\r\n",
      "  \"deletedResources\": [],\r\n",
      "  \"denySettings\": {\r\n",
      "    \"applyToChildScopes\": false,\r\n",
      "    \"excludedActions\": [],\r\n",
      "    \"excludedPrincipals\": null,\r\n",
      "    \"mode\": \"denyDelete\"\r\n",
      "  },\r\n",
      "  \"deploymentId\": \"/subscriptions/7f1f09f1-46c7-4d90-b00b-e69d5fb05c28/resourceGroups/stacks/providers/Microsoft.Resources/deployments/stack1-240529205cu6v\",\r\n",
      "  \"deploymentScope\": null,\r\n",
      "  \"description\": null,\r\n",
      "  \"detachedResources\": [],\r\n",
      "  \"duration\": \"PT1M8.4584952S\",\r\n",
      "  \"error\": null,\r\n",
      "  \"failedResources\": [],\r\n",
      "  \"id\": \"/subscriptions/7f1f09f1-46c7-4d90-b00b-e69d5fb05c28/resourceGroups/stacks/providers/Microsoft.Resources/deploymentStacks/stack1\",\r\n",
      "  \"location\": null,\r\n",
      "  \"name\": \"stack1\",\r\n",
      "  \"outputs\": null,\r\n",
      "  \"parameters\": {},\r\n",
      "  \"parametersLink\": null,\r\n",
      "  \"provisioningState\": \"succeeded\",\r\n",
      "  \"resourceGroup\": \"stacks\",\r\n",
      "  \"resources\": [\r\n",
      "    {\r\n",
      "      \"denyStatus\": \"denyDelete\",\r\n",
      "      \"id\": \"/subscriptions/7f1f09f1-46c7-4d90-b00b-e69d5fb05c28/resourceGroups/stacks/providers/Microsoft.Storage/storageAccounts/cldrpblcfunc1editstor\",\r\n",
      "      \"resourceGroup\": \"stacks\",\r\n",
      "      \"status\": \"managed\"\r\n",
      "    },\r\n",
      "    {\r\n",
      "      \"denyStatus\": \"denyDelete\",\r\n",
      "      \"id\": \"/subscriptions/7f1f09f1-46c7-4d90-b00b-e69d5fb05c28/resourceGroups/stacks/providers/Microsoft.Storage/storageAccounts/cldrpblcfunc1editstor/fileServices/default\",\r\n",
      "      \"resourceGroup\": \"stacks\",\r\n",
      "      \"status\": \"managed\"\r\n",
      "    },\r\n",
      "    {\r\n",
      "      \"denyStatus\": \"denyDelete\",\r\n",
      "      \"id\": \"/subscriptions/7f1f09f1-46c7-4d90-b00b-e69d5fb05c28/resourceGroups/stacks/providers/Microsoft.Storage/storageAccounts/cldrpblcfunc1editstor/tableServices/default\",\r\n",
      "      \"resourceGroup\": \"stacks\",\r\n",
      "      \"status\": \"managed\"\r\n",
      "    },\r\n",
      "    {\r\n",
      "      \"denyStatus\": \"denyDelete\",\r\n",
      "      \"id\": \"/subscriptions/7f1f09f1-46c7-4d90-b00b-e69d5fb05c28/resourceGroups/stacks/providers/Microsoft.Web/serverfarms/cldrpblcfunc1editplan\",\r\n",
      "      \"resourceGroup\": \"stacks\",\r\n",
      "      \"status\": \"managed\"\r\n",
      "    },\r\n",
      "    {\r\n",
      "      \"denyStatus\": \"denyDelete\",\r\n",
      "      \"id\": \"/subscriptions/7f1f09f1-46c7-4d90-b00b-e69d5fb05c28/resourceGroups/stacks/providers/Microsoft.Web/sites/cldrpblcfunc1edit\",\r\n",
      "      \"resourceGroup\": \"stacks\",\r\n",
      "      \"status\": \"managed\"\r\n",
      "    },\r\n",
      "    {\r\n",
      "      \"denyStatus\": \"denyDelete\",\r\n",
      "      \"id\": \"/subscriptions/7f1f09f1-46c7-4d90-b00b-e69d5fb05c28/resourceGroups/stacks/providers/Microsoft.Web/sites/cldrpblcfunc1edit/slots/staging\",\r\n",
      "      \"resourceGroup\": \"stacks\",\r\n",
      "      \"status\": \"managed\"\r\n",
      "    }\r\n",
      "  ],\r\n",
      "  \"systemData\": {\r\n",
      "    \"createdAt\": \"2024-05-29T14:18:58.694342+00:00\",\r\n",
      "    \"createdBy\": \"3dad33bc-5903-461c-95c4-a9b0ba070e3c\",\r\n",
      "    \"createdByType\": \"Application\",\r\n",
      "    \"lastModifiedAt\": \"2024-05-29T20:18:18.482657+00:00\",\r\n",
      "    \"lastModifiedBy\": \"3dad33bc-5903-461c-95c4-a9b0ba070e3c\",\r\n",
      "    \"lastModifiedByType\": \"Application\"\r\n",
      "  },\r\n",
      "  \"tags\": {},\r\n",
      "  \"template\": null,\r\n",
      "  \"templateLink\": null,\r\n",
      "  \"type\": \"Microsoft.Resources/deploymentStacks\"\r\n",
      "}\r\n"
     ]
    }
   ],
   "execution_count": 13
  },
  {
   "cell_type": "code",
   "metadata": {
    "vscode": {
     "languageId": "shellscript"
    },
    "ExecuteTime": {
     "end_time": "2024-05-29T17:33:42.153126Z",
     "start_time": "2024-05-29T17:32:07.394251Z"
    }
   },
   "source": [
    "!az stack group create --name 'stack3' --resource-group 'stacks' --template-file './originals/deployment_3.bicep' --deny-settings-mode denyWriteAndDelete --action-on-unmanage deleteResources --yes"
   ],
   "outputs": [
    {
     "name": "stdout",
     "output_type": "stream",
     "text": [
      "\u001B[K{\\ Finished ..\r\n",
      "  \"actionOnUnmanage\": {\r\n",
      "    \"managementGroups\": \"detach\",\r\n",
      "    \"resourceGroups\": \"detach\",\r\n",
      "    \"resources\": \"delete\"\r\n",
      "  },\r\n",
      "  \"debugSetting\": null,\r\n",
      "  \"deletedResources\": [],\r\n",
      "  \"denySettings\": {\r\n",
      "    \"applyToChildScopes\": false,\r\n",
      "    \"excludedActions\": [],\r\n",
      "    \"excludedPrincipals\": null,\r\n",
      "    \"mode\": \"denyWriteAndDelete\"\r\n",
      "  },\r\n",
      "  \"deploymentId\": \"/subscriptions/7f1f09f1-46c7-4d90-b00b-e69d5fb05c28/resourceGroups/stacks/providers/Microsoft.Resources/deployments/stack3-240529179ew7p\",\r\n",
      "  \"deploymentScope\": null,\r\n",
      "  \"description\": null,\r\n",
      "  \"detachedResources\": [],\r\n",
      "  \"duration\": \"PT1M5.2819958S\",\r\n",
      "  \"error\": null,\r\n",
      "  \"failedResources\": [],\r\n",
      "  \"id\": \"/subscriptions/7f1f09f1-46c7-4d90-b00b-e69d5fb05c28/resourceGroups/stacks/providers/Microsoft.Resources/deploymentStacks/stack3\",\r\n",
      "  \"location\": null,\r\n",
      "  \"name\": \"stack3\",\r\n",
      "  \"outputs\": null,\r\n",
      "  \"parameters\": {},\r\n",
      "  \"parametersLink\": null,\r\n",
      "  \"provisioningState\": \"succeeded\",\r\n",
      "  \"resourceGroup\": \"stacks\",\r\n",
      "  \"resources\": [\r\n",
      "    {\r\n",
      "      \"denyStatus\": \"denyWriteAndDelete\",\r\n",
      "      \"id\": \"/subscriptions/7f1f09f1-46c7-4d90-b00b-e69d5fb05c28/resourceGroups/stacks/providers/Microsoft.Storage/storageAccounts/cldrpblcmvlfunc3stor\",\r\n",
      "      \"resourceGroup\": \"stacks\",\r\n",
      "      \"status\": \"managed\"\r\n",
      "    },\r\n",
      "    {\r\n",
      "      \"denyStatus\": \"denyWriteAndDelete\",\r\n",
      "      \"id\": \"/subscriptions/7f1f09f1-46c7-4d90-b00b-e69d5fb05c28/resourceGroups/stacks/providers/Microsoft.Storage/storageAccounts/cldrpblcmvlfunc3stor/fileServices/default\",\r\n",
      "      \"resourceGroup\": \"stacks\",\r\n",
      "      \"status\": \"managed\"\r\n",
      "    },\r\n",
      "    {\r\n",
      "      \"denyStatus\": \"denyWriteAndDelete\",\r\n",
      "      \"id\": \"/subscriptions/7f1f09f1-46c7-4d90-b00b-e69d5fb05c28/resourceGroups/stacks/providers/Microsoft.Storage/storageAccounts/cldrpblcmvlfunc3stor/tableServices/default\",\r\n",
      "      \"resourceGroup\": \"stacks\",\r\n",
      "      \"status\": \"managed\"\r\n",
      "    },\r\n",
      "    {\r\n",
      "      \"denyStatus\": \"denyWriteAndDelete\",\r\n",
      "      \"id\": \"/subscriptions/7f1f09f1-46c7-4d90-b00b-e69d5fb05c28/resourceGroups/stacks/providers/Microsoft.Web/serverfarms/cldrpblcmvlfunc3plan\",\r\n",
      "      \"resourceGroup\": \"stacks\",\r\n",
      "      \"status\": \"managed\"\r\n",
      "    },\r\n",
      "    {\r\n",
      "      \"denyStatus\": \"denyWriteAndDelete\",\r\n",
      "      \"id\": \"/subscriptions/7f1f09f1-46c7-4d90-b00b-e69d5fb05c28/resourceGroups/stacks/providers/Microsoft.Web/sites/cldrpblcmvlfunc3\",\r\n",
      "      \"resourceGroup\": \"stacks\",\r\n",
      "      \"status\": \"managed\"\r\n",
      "    },\r\n",
      "    {\r\n",
      "      \"denyStatus\": \"denyWriteAndDelete\",\r\n",
      "      \"id\": \"/subscriptions/7f1f09f1-46c7-4d90-b00b-e69d5fb05c28/resourceGroups/stacks/providers/Microsoft.Web/sites/cldrpblcmvlfunc3/slots/staging\",\r\n",
      "      \"resourceGroup\": \"stacks\",\r\n",
      "      \"status\": \"managed\"\r\n",
      "    }\r\n",
      "  ],\r\n",
      "  \"systemData\": {\r\n",
      "    \"createdAt\": \"2024-05-29T14:28:38.166188+00:00\",\r\n",
      "    \"createdBy\": \"3dad33bc-5903-461c-95c4-a9b0ba070e3c\",\r\n",
      "    \"createdByType\": \"Application\",\r\n",
      "    \"lastModifiedAt\": \"2024-05-29T17:32:10.014253+00:00\",\r\n",
      "    \"lastModifiedBy\": \"3dad33bc-5903-461c-95c4-a9b0ba070e3c\",\r\n",
      "    \"lastModifiedByType\": \"Application\"\r\n",
      "  },\r\n",
      "  \"tags\": {},\r\n",
      "  \"template\": null,\r\n",
      "  \"templateLink\": null,\r\n",
      "  \"type\": \"Microsoft.Resources/deploymentStacks\"\r\n",
      "}\r\n"
     ]
    }
   ],
   "execution_count": 9
  },
  {
   "cell_type": "markdown",
   "metadata": {},
   "source": [
    "### But wait"
   ]
  },
  {
   "cell_type": "markdown",
   "metadata": {},
   "source": [
    "we cannot our swap slots now."
   ]
  },
  {
   "cell_type": "code",
   "metadata": {
    "vscode": {
     "languageId": "shellscript"
    },
    "ExecuteTime": {
     "end_time": "2024-05-29T20:19:53.101503Z",
     "start_time": "2024-05-29T20:19:50.505158Z"
    }
   },
   "source": "!az functionapp deployment slot swap --name 'cldrpblcmvlfunc3' --resource-group 'stacks' --slot 'staging' --target-slot 'production'",
   "outputs": [
    {
     "name": "stdout",
     "output_type": "stream",
     "text": [
      "\u001B[91m(DenyAssignmentAuthorizationFailed) The client 'd73c7dec-1679-4e2d-bcdd-d107e505dabf' with object id 'd73c7dec-1679-4e2d-bcdd-d107e505dabf' has permission to perform action 'Microsoft.Web/sites/slots/slotsswap/action' on scope '/subscriptions/7f1f09f1-46c7-4d90-b00b-e69d5fb05c28/resourceGroups/stacks/providers/Microsoft.Web/sites/cldrpblcmvlfunc3/slots/staging'; however, the access is denied because of the deny assignment with name 'Deny assignment '42897844-346c-5da0-9e9a-773ade28bec8' created by Deployment Stack '/subscriptions/7f1f09f1-46c7-4d90-b00b-e69d5fb05c28/resourceGroups/stacks/providers/Microsoft.Resources/deploymentStacks/stack3'.' and Id '42897844346c5da09e9a773ade28bec8' at scope '/subscriptions/7f1f09f1-46c7-4d90-b00b-e69d5fb05c28/resourceGroups/stacks/providers/Microsoft.Web/sites/cldrpblcmvlfunc3/slots/staging'.\r\n",
      "Code: DenyAssignmentAuthorizationFailed\r\n",
      "Message: The client 'd73c7dec-1679-4e2d-bcdd-d107e505dabf' with object id 'd73c7dec-1679-4e2d-bcdd-d107e505dabf' has permission to perform action 'Microsoft.Web/sites/slots/slotsswap/action' on scope '/subscriptions/7f1f09f1-46c7-4d90-b00b-e69d5fb05c28/resourceGroups/stacks/providers/Microsoft.Web/sites/cldrpblcmvlfunc3/slots/staging'; however, the access is denied because of the deny assignment with name 'Deny assignment '42897844-346c-5da0-9e9a-773ade28bec8' created by Deployment Stack '/subscriptions/7f1f09f1-46c7-4d90-b00b-e69d5fb05c28/resourceGroups/stacks/providers/Microsoft.Resources/deploymentStacks/stack3'.' and Id '42897844346c5da09e9a773ade28bec8' at scope '/subscriptions/7f1f09f1-46c7-4d90-b00b-e69d5fb05c28/resourceGroups/stacks/providers/Microsoft.Web/sites/cldrpblcmvlfunc3/slots/staging'.\u001B[0m\r\n"
     ]
    }
   ],
   "execution_count": 14
  },
  {
   "cell_type": "markdown",
   "metadata": {},
   "source": [
    "#### How to fix it\n",
    "use a deny"
   ]
  },
  {
   "cell_type": "code",
   "execution_count": 6,
   "metadata": {
    "vscode": {
     "languageId": "shellscript"
    }
   },
   "outputs": [
    {
     "name": "stdout",
     "output_type": "stream",
     "text": [
      "\u001B[K{- Finished ..\u001B[K - Starting ..\n",
      "  \"actionOnUnmanage\": {\n",
      "    \"managementGroups\": \"detach\",\n",
      "    \"resourceGroups\": \"detach\",\n",
      "    \"resources\": \"delete\"\n",
      "  },\n",
      "  \"debugSetting\": null,\n",
      "  \"deletedResources\": [],\n",
      "  \"denySettings\": {\n",
      "    \"applyToChildScopes\": false,\n",
      "    \"excludedActions\": [],\n",
      "    \"excludedPrincipals\": [\n",
      "      \"2dc1f380-efdc-4800-ab4c-cc02622051d8\"\n",
      "    ],\n",
      "    \"mode\": \"denyWriteAndDelete\"\n",
      "  },\n",
      "  \"deploymentId\": \"/subscriptions/7f1f09f1-46c7-4d90-b00b-e69d5fb05c28/resourceGroups/stacks/providers/Microsoft.Resources/deployments/stack3-240315119msbo\",\n",
      "  \"deploymentScope\": null,\n",
      "  \"description\": null,\n",
      "  \"detachedResources\": [],\n",
      "  \"duration\": \"PT1M4.9020818S\",\n",
      "  \"error\": null,\n",
      "  \"failedResources\": [],\n",
      "  \"id\": \"/subscriptions/7f1f09f1-46c7-4d90-b00b-e69d5fb05c28/resourceGroups/stacks/providers/Microsoft.Resources/deploymentStacks/stack3\",\n",
      "  \"location\": null,\n",
      "  \"name\": \"stack3\",\n",
      "  \"outputs\": null,\n",
      "  \"parameters\": {},\n",
      "  \"parametersLink\": null,\n",
      "  \"provisioningState\": \"succeeded\",\n",
      "  \"resourceGroup\": \"stacks\",\n",
      "  \"resources\": [\n",
      "    {\n",
      "      \"denyStatus\": \"denyWriteAndDelete\",\n",
      "      \"id\": \"/subscriptions/7f1f09f1-46c7-4d90-b00b-e69d5fb05c28/resourceGroups/stacks/providers/Microsoft.Storage/storageAccounts/cldrpblcmvlfunc3stor\",\n",
      "      \"resourceGroup\": \"stacks\",\n",
      "      \"status\": \"managed\"\n",
      "    },\n",
      "    {\n",
      "      \"denyStatus\": \"denyWriteAndDelete\",\n",
      "      \"id\": \"/subscriptions/7f1f09f1-46c7-4d90-b00b-e69d5fb05c28/resourceGroups/stacks/providers/Microsoft.Storage/storageAccounts/cldrpblcmvlfunc3stor/fileServices/default\",\n",
      "      \"resourceGroup\": \"stacks\",\n",
      "      \"status\": \"managed\"\n",
      "    },\n",
      "    {\n",
      "      \"denyStatus\": \"denyWriteAndDelete\",\n",
      "      \"id\": \"/subscriptions/7f1f09f1-46c7-4d90-b00b-e69d5fb05c28/resourceGroups/stacks/providers/Microsoft.Storage/storageAccounts/cldrpblcmvlfunc3stor/tableServices/default\",\n",
      "      \"resourceGroup\": \"stacks\",\n",
      "      \"status\": \"managed\"\n",
      "    },\n",
      "    {\n",
      "      \"denyStatus\": \"denyWriteAndDelete\",\n",
      "      \"id\": \"/subscriptions/7f1f09f1-46c7-4d90-b00b-e69d5fb05c28/resourceGroups/stacks/providers/Microsoft.Web/serverfarms/cldrpblcmvlfunc3plan\",\n",
      "      \"resourceGroup\": \"stacks\",\n",
      "      \"status\": \"managed\"\n",
      "    },\n",
      "    {\n",
      "      \"denyStatus\": \"denyWriteAndDelete\",\n",
      "      \"id\": \"/subscriptions/7f1f09f1-46c7-4d90-b00b-e69d5fb05c28/resourceGroups/stacks/providers/Microsoft.Web/sites/cldrpblcmvlfunc3\",\n",
      "      \"resourceGroup\": \"stacks\",\n",
      "      \"status\": \"managed\"\n",
      "    },\n",
      "    {\n",
      "      \"denyStatus\": \"denyWriteAndDelete\",\n",
      "      \"id\": \"/subscriptions/7f1f09f1-46c7-4d90-b00b-e69d5fb05c28/resourceGroups/stacks/providers/Microsoft.Web/sites/cldrpblcmvlfunc3/slots/staging\",\n",
      "      \"resourceGroup\": \"stacks\",\n",
      "      \"status\": \"managed\"\n",
      "    }\n",
      "  ],\n",
      "  \"systemData\": {\n",
      "    \"createdAt\": \"2024-03-15T11:32:55.325650+00:00\",\n",
      "    \"createdBy\": \"ce5c6e35-af05-47f4-91c2-e0cf4b7fd42b\",\n",
      "    \"createdByType\": \"Application\",\n",
      "    \"lastModifiedAt\": \"2024-03-15T11:32:55.325650+00:00\",\n",
      "    \"lastModifiedBy\": \"ce5c6e35-af05-47f4-91c2-e0cf4b7fd42b\",\n",
      "    \"lastModifiedByType\": \"Application\"\n",
      "  },\n",
      "  \"tags\": {},\n",
      "  \"template\": null,\n",
      "  \"templateLink\": null,\n",
      "  \"type\": \"Microsoft.Resources/deploymentStacks\"\n",
      "}\n"
     ]
    }
   ],
   "source": [
    "!az stack group delete -g stacks -n stack3 --yes\n",
    "!az stack group create --name 'stack3' --action-on-unmanage deleteResources --resource-group 'stacks' --template-file './originals/deployment_3.bicep' --deny-settings-mode denyWriteAndDelete --yes --deny-settings-excluded-principals '3dad33bc-5903-461c-95c4-a9b0ba070e3c'"
   ]
  },
  {
   "cell_type": "markdown",
   "metadata": {},
   "source": [
    "### Locking the stack\n",
    "First show the issue"
   ]
  },
  {
   "metadata": {
    "ExecuteTime": {
     "end_time": "2024-05-29T20:46:19.652335Z",
     "start_time": "2024-05-29T20:43:44.929781Z"
    }
   },
   "cell_type": "code",
   "source": "!az stack group create --name 'stack2' --resource-group 'stacks' --template-file './originals/deployment_2.bicep' --description 'Second azure function' --deny-settings-mode denyDelete --yes",
   "outputs": [
    {
     "name": "stdout",
     "output_type": "stream",
     "text": [
      "\u001B[K{- Finished ..\r\n",
      "  \"actionOnUnmanage\": {\r\n",
      "    \"managementGroups\": \"detach\",\r\n",
      "    \"resourceGroups\": \"detach\",\r\n",
      "    \"resources\": \"detach\"\r\n",
      "  },\r\n",
      "  \"debugSetting\": null,\r\n",
      "  \"deletedResources\": [],\r\n",
      "  \"denySettings\": {\r\n",
      "    \"applyToChildScopes\": false,\r\n",
      "    \"excludedActions\": [],\r\n",
      "    \"excludedPrincipals\": null,\r\n",
      "    \"mode\": \"denyDelete\"\r\n",
      "  },\r\n",
      "  \"deploymentId\": \"/subscriptions/7f1f09f1-46c7-4d90-b00b-e69d5fb05c28/resourceGroups/stacks/providers/Microsoft.Resources/deployments/stack2-24052920ct9dl\",\r\n",
      "  \"deploymentScope\": null,\r\n",
      "  \"description\": \"Second azure function\",\r\n",
      "  \"detachedResources\": [],\r\n",
      "  \"duration\": \"PT2M14.5880081S\",\r\n",
      "  \"error\": null,\r\n",
      "  \"failedResources\": [],\r\n",
      "  \"id\": \"/subscriptions/7f1f09f1-46c7-4d90-b00b-e69d5fb05c28/resourceGroups/stacks/providers/Microsoft.Resources/deploymentStacks/stack2\",\r\n",
      "  \"location\": null,\r\n",
      "  \"name\": \"stack2\",\r\n",
      "  \"outputs\": null,\r\n",
      "  \"parameters\": {},\r\n",
      "  \"parametersLink\": null,\r\n",
      "  \"provisioningState\": \"succeeded\",\r\n",
      "  \"resourceGroup\": \"stacks\",\r\n",
      "  \"resources\": [\r\n",
      "    {\r\n",
      "      \"denyStatus\": \"denyDelete\",\r\n",
      "      \"id\": \"/subscriptions/7f1f09f1-46c7-4d90-b00b-e69d5fb05c28/resourceGroups/stacks/providers/Microsoft.Storage/storageAccounts/cldrpblcmvlfunc2stor\",\r\n",
      "      \"resourceGroup\": \"stacks\",\r\n",
      "      \"status\": \"managed\"\r\n",
      "    },\r\n",
      "    {\r\n",
      "      \"denyStatus\": \"denyDelete\",\r\n",
      "      \"id\": \"/subscriptions/7f1f09f1-46c7-4d90-b00b-e69d5fb05c28/resourceGroups/stacks/providers/Microsoft.Storage/storageAccounts/cldrpblcmvlfunc2stor/fileServices/default\",\r\n",
      "      \"resourceGroup\": \"stacks\",\r\n",
      "      \"status\": \"managed\"\r\n",
      "    },\r\n",
      "    {\r\n",
      "      \"denyStatus\": \"denyDelete\",\r\n",
      "      \"id\": \"/subscriptions/7f1f09f1-46c7-4d90-b00b-e69d5fb05c28/resourceGroups/stacks/providers/Microsoft.Storage/storageAccounts/cldrpblcmvlfunc2stor/tableServices/default\",\r\n",
      "      \"resourceGroup\": \"stacks\",\r\n",
      "      \"status\": \"managed\"\r\n",
      "    },\r\n",
      "    {\r\n",
      "      \"denyStatus\": \"denyDelete\",\r\n",
      "      \"id\": \"/subscriptions/7f1f09f1-46c7-4d90-b00b-e69d5fb05c28/resourceGroups/stacks/providers/Microsoft.Web/serverfarms/cldrpblcmvlfunc2plan\",\r\n",
      "      \"resourceGroup\": \"stacks\",\r\n",
      "      \"status\": \"managed\"\r\n",
      "    },\r\n",
      "    {\r\n",
      "      \"denyStatus\": \"denyDelete\",\r\n",
      "      \"id\": \"/subscriptions/7f1f09f1-46c7-4d90-b00b-e69d5fb05c28/resourceGroups/stacks/providers/Microsoft.Web/sites/cldrpblcmvlfunc2\",\r\n",
      "      \"resourceGroup\": \"stacks\",\r\n",
      "      \"status\": \"managed\"\r\n",
      "    },\r\n",
      "    {\r\n",
      "      \"denyStatus\": \"denyDelete\",\r\n",
      "      \"id\": \"/subscriptions/7f1f09f1-46c7-4d90-b00b-e69d5fb05c28/resourceGroups/stacks/providers/Microsoft.Web/sites/cldrpblcmvlfunc2/slots/staging\",\r\n",
      "      \"resourceGroup\": \"stacks\",\r\n",
      "      \"status\": \"managed\"\r\n",
      "    }\r\n",
      "  ],\r\n",
      "  \"systemData\": {\r\n",
      "    \"createdAt\": \"2024-05-29T20:43:47.750726+00:00\",\r\n",
      "    \"createdBy\": \"3dad33bc-5903-461c-95c4-a9b0ba070e3c\",\r\n",
      "    \"createdByType\": \"Application\",\r\n",
      "    \"lastModifiedAt\": \"2024-05-29T20:43:47.750726+00:00\",\r\n",
      "    \"lastModifiedBy\": \"3dad33bc-5903-461c-95c4-a9b0ba070e3c\",\r\n",
      "    \"lastModifiedByType\": \"Application\"\r\n",
      "  },\r\n",
      "  \"tags\": {},\r\n",
      "  \"template\": null,\r\n",
      "  \"templateLink\": null,\r\n",
      "  \"type\": \"Microsoft.Resources/deploymentStacks\"\r\n",
      "}\r\n"
     ]
    }
   ],
   "execution_count": 19
  },
  {
   "metadata": {},
   "cell_type": "markdown",
   "source": "Make sure nobody can delete the stack by locking it"
  },
  {
   "cell_type": "code",
   "metadata": {
    "vscode": {
     "languageId": "shellscript"
    },
    "ExecuteTime": {
     "end_time": "2024-05-29T20:22:56.253951Z",
     "start_time": "2024-05-29T20:22:55.247514Z"
    }
   },
   "source": [
    "!az resource lock create --lock-type CanNotDelete --name lockStack1 --resource /subscriptions/7f1f09f1-46c7-4d90-b00b-e69d5fb05c28/resourceGroups/stacks/providers/Microsoft.Resources/deploymentStacks/stack1"
   ],
   "outputs": [
    {
     "name": "stdout",
     "output_type": "stream",
     "text": [
      "{\r\n",
      "  \"id\": \"/subscriptions/7f1f09f1-46c7-4d90-b00b-e69d5fb05c28/resourcegroups/stacks/providers/Microsoft.Resources/deploymentStacks/stack1/providers/Microsoft.Authorization/locks/lockStack1\",\r\n",
      "  \"level\": \"CanNotDelete\",\r\n",
      "  \"name\": \"lockStack1\",\r\n",
      "  \"notes\": null,\r\n",
      "  \"owners\": null,\r\n",
      "  \"resourceGroup\": \"stacks\",\r\n",
      "  \"type\": \"Microsoft.Authorization/locks\"\r\n",
      "}\r\n"
     ]
    }
   ],
   "execution_count": 15
  },
  {
   "metadata": {},
   "cell_type": "markdown",
   "source": "And unlock it again"
  },
  {
   "cell_type": "code",
   "metadata": {
    "vscode": {
     "languageId": "shellscript"
    },
    "ExecuteTime": {
     "end_time": "2024-05-29T20:22:59.871215Z",
     "start_time": "2024-05-29T20:22:59.153642Z"
    }
   },
   "source": [
    "!az resource lock delete --name lockStack1 --resource /subscriptions/7f1f09f1-46c7-4d90-b00b-e69d5fb05c28/resourceGroups/stacks/providers/Microsoft.Resources/deploymentStacks/stack1"
   ],
   "outputs": [],
   "execution_count": 16
  },
  {
   "cell_type": "markdown",
   "metadata": {},
   "source": [
    "## Exporting templates\n",
    "Recover an deployed template"
   ]
  },
  {
   "cell_type": "code",
   "metadata": {
    "vscode": {
     "languageId": "shellscript"
    },
    "ExecuteTime": {
     "end_time": "2024-05-29T20:23:08.863247Z",
     "start_time": "2024-05-29T20:23:08.145418Z"
    }
   },
   "source": [
    "!az stack group export --resource-group 'stacks' --name 'stack1'"
   ],
   "outputs": [
    {
     "name": "stdout",
     "output_type": "stream",
     "text": [
      "{\r\n",
      "  \"template\": {\r\n",
      "    \"$schema\": \"https://schema.management.azure.com/schemas/2019-04-01/deploymentTemplate.json#\",\r\n",
      "    \"contentVersion\": \"1.0.0.0\",\r\n",
      "    \"metadata\": {\r\n",
      "      \"_generator\": {\r\n",
      "        \"name\": \"bicep\",\r\n",
      "        \"templateHash\": \"16636804768859010513\",\r\n",
      "        \"version\": \"0.27.1.19265\"\r\n",
      "      }\r\n",
      "    },\r\n",
      "    \"resources\": [\r\n",
      "      {\r\n",
      "        \"apiVersion\": \"2022-09-01\",\r\n",
      "        \"name\": \"[format('{0}-func', deployment().name)]\",\r\n",
      "        \"properties\": {\r\n",
      "          \"expressionEvaluationOptions\": {\r\n",
      "            \"scope\": \"inner\"\r\n",
      "          },\r\n",
      "          \"mode\": \"Incremental\",\r\n",
      "          \"parameters\": {\r\n",
      "            \"functionName\": {\r\n",
      "              \"value\": \"cldrpblcfunc1edit\"\r\n",
      "            },\r\n",
      "            \"fxVersion\": {\r\n",
      "              \"value\": \"dotnet-isolated|8.0\"\r\n",
      "            },\r\n",
      "            \"location\": {\r\n",
      "              \"value\": \"[resourceGroup().location]\"\r\n",
      "            },\r\n",
      "            \"runtimeVersion\": {\r\n",
      "              \"value\": \"~4\"\r\n",
      "            },\r\n",
      "            \"use32BitWorkerProcess\": {\r\n",
      "              \"value\": false\r\n",
      "            },\r\n",
      "            \"useDotnetIsolated\": {\r\n",
      "              \"value\": true\r\n",
      "            },\r\n",
      "            \"workerRuntime\": {\r\n",
      "              \"value\": \"dotnet-isolated\"\r\n",
      "            }\r\n",
      "          },\r\n",
      "          \"template\": {\r\n",
      "            \"$schema\": \"https://schema.management.azure.com/schemas/2019-04-01/deploymentTemplate.json#\",\r\n",
      "            \"contentVersion\": \"1.0.0.0\",\r\n",
      "            \"metadata\": {\r\n",
      "              \"_generator\": {\r\n",
      "                \"name\": \"bicep\",\r\n",
      "                \"templateHash\": \"16705059822315532988\",\r\n",
      "                \"version\": \"0.27.1.19265\"\r\n",
      "              }\r\n",
      "            },\r\n",
      "            \"parameters\": {\r\n",
      "              \"functionName\": {\r\n",
      "                \"type\": \"string\"\r\n",
      "              },\r\n",
      "              \"fxVersion\": {\r\n",
      "                \"allowedValues\": [\r\n",
      "                  \"dotnet|6.0\",\r\n",
      "                  \"dotnet-isolated|8.0\",\r\n",
      "                  \"node|16\"\r\n",
      "                ],\r\n",
      "                \"type\": \"string\"\r\n",
      "              },\r\n",
      "              \"location\": {\r\n",
      "                \"type\": \"string\"\r\n",
      "              },\r\n",
      "              \"runtimeVersion\": {\r\n",
      "                \"allowedValues\": [\r\n",
      "                  \"~4\"\r\n",
      "                ],\r\n",
      "                \"type\": \"string\"\r\n",
      "              },\r\n",
      "              \"use32BitWorkerProcess\": {\r\n",
      "                \"defaultValue\": true,\r\n",
      "                \"type\": \"bool\"\r\n",
      "              },\r\n",
      "              \"useDotnetIsolated\": {\r\n",
      "                \"defaultValue\": false,\r\n",
      "                \"type\": \"bool\"\r\n",
      "              },\r\n",
      "              \"workerRuntime\": {\r\n",
      "                \"allowedValues\": [\r\n",
      "                  \"dotnet\",\r\n",
      "                  \"dotnet-isolated\",\r\n",
      "                  \"node\",\r\n",
      "                  \"java\",\r\n",
      "                  \"powershell\",\r\n",
      "                  \"python\"\r\n",
      "                ],\r\n",
      "                \"type\": \"string\"\r\n",
      "              }\r\n",
      "            },\r\n",
      "            \"resources\": [\r\n",
      "              {\r\n",
      "                \"apiVersion\": \"2021-04-01\",\r\n",
      "                \"dependsOn\": [\r\n",
      "                  \"[resourceId('Microsoft.Storage/storageAccounts', format('{0}stor', parameters('functionName')))]\"\r\n",
      "                ],\r\n",
      "                \"name\": \"[format('{0}/{1}', format('{0}stor', parameters('functionName')), 'default')]\",\r\n",
      "                \"type\": \"Microsoft.Storage/storageAccounts/fileServices\"\r\n",
      "              },\r\n",
      "              {\r\n",
      "                \"apiVersion\": \"2021-04-01\",\r\n",
      "                \"dependsOn\": [\r\n",
      "                  \"[resourceId('Microsoft.Storage/storageAccounts', format('{0}stor', parameters('functionName')))]\"\r\n",
      "                ],\r\n",
      "                \"name\": \"[format('{0}/{1}', format('{0}stor', parameters('functionName')), 'default')]\",\r\n",
      "                \"type\": \"Microsoft.Storage/storageAccounts/tableServices\"\r\n",
      "              },\r\n",
      "              {\r\n",
      "                \"apiVersion\": \"2022-03-01\",\r\n",
      "                \"dependsOn\": [\r\n",
      "                  \"[resourceId('Microsoft.Web/sites', parameters('functionName'))]\",\r\n",
      "                  \"[resourceId('Microsoft.Storage/storageAccounts', format('{0}stor', parameters('functionName')))]\"\r\n",
      "                ],\r\n",
      "                \"location\": \"[parameters('location')]\",\r\n",
      "                \"name\": \"[format('{0}/{1}', parameters('functionName'), 'staging')]\",\r\n",
      "                \"properties\": {\r\n",
      "                  \"httpsOnly\": true,\r\n",
      "                  \"siteConfig\": {\r\n",
      "                    \"appSettings\": [\r\n",
      "                      {\r\n",
      "                        \"name\": \"AzureWebJobsStorage\",\r\n",
      "                        \"value\": \"[format('DefaultEndpointsProtocol=https;AccountName={0};EndpointSuffix={1};AccountKey={2}', format('{0}stor', parameters('functionName')), environment().suffixes.storage, listKeys(resourceId('Microsoft.Storage/storageAccounts', format('{0}stor', parameters('functionName'))), '2021-04-01').keys[0].value)]\"\r\n",
      "                      },\r\n",
      "                      {\r\n",
      "                        \"name\": \"FUNCTIONS_WORKER_RUNTIME\",\r\n",
      "                        \"value\": \"[parameters('workerRuntime')]\"\r\n",
      "                      },\r\n",
      "                      {\r\n",
      "                        \"name\": \"FUNCTIONS_EXTENSION_VERSION\",\r\n",
      "                        \"value\": \"[parameters('runtimeVersion')]\"\r\n",
      "                      },\r\n",
      "                      {\r\n",
      "                        \"name\": \"WEBSITE_CONTENTAZUREFILECONNECTIONSTRING\",\r\n",
      "                        \"value\": \"[format('DefaultEndpointsProtocol=https;AccountName={0};EndpointSuffix={1};AccountKey={2}', format('{0}stor', parameters('functionName')), environment().suffixes.storage, listKeys(resourceId('Microsoft.Storage/storageAccounts', format('{0}stor', parameters('functionName'))), '2021-04-01').keys[0].value)]\"\r\n",
      "                      },\r\n",
      "                      {\r\n",
      "                        \"name\": \"WEBSITE_USE_PLACEHOLDER_DOTNETISOLATED\",\r\n",
      "                        \"value\": \"[if(parameters('useDotnetIsolated'), '1', '0')]\"\r\n",
      "                      },\r\n",
      "                      {\r\n",
      "                        \"name\": \"WEBSITE_NODE_DEFAULT_VERSION\",\r\n",
      "                        \"value\": \"~16\"\r\n",
      "                      }\r\n",
      "                    ],\r\n",
      "                    \"ftpsState\": \"FtpsOnly\",\r\n",
      "                    \"http20Enabled\": true,\r\n",
      "                    \"minTlsVersion\": \"1.2\",\r\n",
      "                    \"scmMinTlsVersion\": \"1.2\",\r\n",
      "                    \"use32BitWorkerProcess\": \"[parameters('use32BitWorkerProcess')]\",\r\n",
      "                    \"windowsFxVersion\": \"[parameters('fxVersion')]\"\r\n",
      "                  }\r\n",
      "                },\r\n",
      "                \"type\": \"Microsoft.Web/sites/slots\"\r\n",
      "              },\r\n",
      "              {\r\n",
      "                \"apiVersion\": \"2021-04-01\",\r\n",
      "                \"kind\": \"StorageV2\",\r\n",
      "                \"location\": \"[parameters('location')]\",\r\n",
      "                \"name\": \"[format('{0}stor', parameters('functionName'))]\",\r\n",
      "                \"properties\": {\r\n",
      "                  \"accessTier\": \"Hot\",\r\n",
      "                  \"allowBlobPublicAccess\": false,\r\n",
      "                  \"minimumTlsVersion\": \"TLS1_2\",\r\n",
      "                  \"networkAcls\": {\r\n",
      "                    \"defaultAction\": \"Allow\"\r\n",
      "                  },\r\n",
      "                  \"supportsHttpsTrafficOnly\": true\r\n",
      "                },\r\n",
      "                \"sku\": {\r\n",
      "                  \"name\": \"Standard_LRS\"\r\n",
      "                },\r\n",
      "                \"type\": \"Microsoft.Storage/storageAccounts\"\r\n",
      "              },\r\n",
      "              {\r\n",
      "                \"apiVersion\": \"2022-03-01\",\r\n",
      "                \"kind\": \"functionapp\",\r\n",
      "                \"location\": \"[parameters('location')]\",\r\n",
      "                \"name\": \"[format('{0}plan', parameters('functionName'))]\",\r\n",
      "                \"sku\": {\r\n",
      "                  \"capacity\": 0,\r\n",
      "                  \"family\": \"Y\",\r\n",
      "                  \"name\": \"Y1\",\r\n",
      "                  \"size\": \"Y1\",\r\n",
      "                  \"tier\": \"Dynamic\"\r\n",
      "                },\r\n",
      "                \"type\": \"Microsoft.Web/serverfarms\"\r\n",
      "              },\r\n",
      "              {\r\n",
      "                \"apiVersion\": \"2022-03-01\",\r\n",
      "                \"dependsOn\": [\r\n",
      "                  \"[resourceId('Microsoft.Web/serverfarms', format('{0}plan', parameters('functionName')))]\",\r\n",
      "                  \"[resourceId('Microsoft.Storage/storageAccounts', format('{0}stor', parameters('functionName')))]\"\r\n",
      "                ],\r\n",
      "                \"kind\": \"functionapp\",\r\n",
      "                \"location\": \"[parameters('location')]\",\r\n",
      "                \"name\": \"[parameters('functionName')]\",\r\n",
      "                \"properties\": {\r\n",
      "                  \"httpsOnly\": true,\r\n",
      "                  \"serverFarmId\": \"[resourceId('Microsoft.Web/serverfarms', format('{0}plan', parameters('functionName')))]\",\r\n",
      "                  \"siteConfig\": {\r\n",
      "                    \"appSettings\": [\r\n",
      "                      {\r\n",
      "                        \"name\": \"AzureWebJobsStorage\",\r\n",
      "                        \"value\": \"[format('DefaultEndpointsProtocol=https;AccountName={0};EndpointSuffix={1};AccountKey={2}', format('{0}stor', parameters('functionName')), environment().suffixes.storage, listKeys(resourceId('Microsoft.Storage/storageAccounts', format('{0}stor', parameters('functionName'))), '2021-04-01').keys[0].value)]\"\r\n",
      "                      },\r\n",
      "                      {\r\n",
      "                        \"name\": \"FUNCTIONS_WORKER_RUNTIME\",\r\n",
      "                        \"value\": \"[parameters('workerRuntime')]\"\r\n",
      "                      },\r\n",
      "                      {\r\n",
      "                        \"name\": \"FUNCTIONS_EXTENSION_VERSION\",\r\n",
      "                        \"value\": \"[parameters('runtimeVersion')]\"\r\n",
      "                      },\r\n",
      "                      {\r\n",
      "                        \"name\": \"WEBSITE_CONTENTAZUREFILECONNECTIONSTRING\",\r\n",
      "                        \"value\": \"[format('DefaultEndpointsProtocol=https;AccountName={0};EndpointSuffix={1};AccountKey={2}', format('{0}stor', parameters('functionName')), environment().suffixes.storage, listKeys(resourceId('Microsoft.Storage/storageAccounts', format('{0}stor', parameters('functionName'))), '2021-04-01').keys[0].value)]\"\r\n",
      "                      },\r\n",
      "                      {\r\n",
      "                        \"name\": \"WEBSITE_USE_PLACEHOLDER_DOTNETISOLATED\",\r\n",
      "                        \"value\": \"[if(parameters('useDotnetIsolated'), '1', '0')]\"\r\n",
      "                      },\r\n",
      "                      {\r\n",
      "                        \"name\": \"WEBSITE_NODE_DEFAULT_VERSION\",\r\n",
      "                        \"value\": \"~16\"\r\n",
      "                      }\r\n",
      "                    ],\r\n",
      "                    \"ftpsState\": \"FtpsOnly\",\r\n",
      "                    \"http20Enabled\": true,\r\n",
      "                    \"minTlsVersion\": \"1.2\",\r\n",
      "                    \"scmMinTlsVersion\": \"1.2\",\r\n",
      "                    \"use32BitWorkerProcess\": \"[parameters('use32BitWorkerProcess')]\",\r\n",
      "                    \"windowsFxVersion\": \"[parameters('fxVersion')]\"\r\n",
      "                  }\r\n",
      "                },\r\n",
      "                \"type\": \"Microsoft.Web/sites\"\r\n",
      "              }\r\n",
      "            ]\r\n",
      "          }\r\n",
      "        },\r\n",
      "        \"type\": \"Microsoft.Resources/deployments\"\r\n",
      "      }\r\n",
      "    ]\r\n",
      "  },\r\n",
      "  \"templateLink\": null\r\n",
      "}\r\n"
     ]
    }
   ],
   "execution_count": 17
  },
  {
   "metadata": {},
   "cell_type": "code",
   "outputs": [],
   "execution_count": null,
   "source": ""
  }
 ],
 "metadata": {
  "kernelspec": {
   "display_name": "Python 3",
   "language": "python",
   "name": "python3"
  },
  "language_info": {
   "codemirror_mode": {
    "name": "ipython",
    "version": 3
   },
   "file_extension": ".py",
   "mimetype": "text/x-python",
   "name": "python",
   "nbconvert_exporter": "python",
   "pygments_lexer": "ipython3",
   "version": "3.12.2"
  }
 },
 "nbformat": 4,
 "nbformat_minor": 2
}
