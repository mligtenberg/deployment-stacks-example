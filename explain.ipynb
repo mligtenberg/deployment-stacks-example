{
 "cells": [
  {
   "cell_type": "markdown",
   "metadata": {},
   "source": [
    "# Azure Stacks\n",
    "In this Notebook we are going to take a look at Azure Deployment Stacks. A tool to better manage your resource deployements.\n",
    "We will look into the it's capabilities and why you might want to use it."
   ]
  },
  {
   "cell_type": "markdown",
   "metadata": {},
   "source": [
    "First, lets setup our environment"
   ]
  },
  {
   "cell_type": "code",
   "execution_count": 21,
   "metadata": {
    "vscode": {
     "languageId": "shellscript"
    }
   },
   "outputs": [
    {
     "name": "stdout",
     "output_type": "stream",
     "text": [
      "\u001b[93mA new Bicep release is available: v0.26.54. Upgrade now by running \"az bicep upgrade\".\u001b[0m\n",
      "\u001b[93m/Users/martinligtenberg/repos/deployment-stacks-example/originals/deployment_1.bicep(6,15) : Warning no-loc-expr-outside-params: Use a parameter here instead of 'resourceGroup().location'. 'resourceGroup().location' and 'deployment().location' should only be used as a default value for parameters. [https://aka.ms/bicep/linter/no-loc-expr-outside-params]\n",
      "\u001b[0m\n",
      "\u001b[K{- Finished ..\n",
      "  \"actionOnUnmanage\": {\n",
      "    \"managementGroups\": \"detach\",\n",
      "    \"resourceGroups\": \"detach\",\n",
      "    \"resources\": \"delete\"\n",
      "  },\n",
      "  \"debugSetting\": null,\n",
      "  \"deletedResources\": [],\n",
      "  \"denySettings\": {\n",
      "    \"applyToChildScopes\": false,\n",
      "    \"excludedActions\": null,\n",
      "    \"excludedPrincipals\": null,\n",
      "    \"mode\": \"none\"\n",
      "  },\n",
      "  \"deploymentId\": \"/subscriptions/7f1f09f1-46c7-4d90-b00b-e69d5fb05c28/resourceGroups/stacks/providers/Microsoft.Resources/deployments/stack1-240315081tbnk\",\n",
      "  \"deploymentScope\": null,\n",
      "  \"description\": \"First azure function\",\n",
      "  \"detachedResources\": [],\n",
      "  \"duration\": \"PT1M15.534498S\",\n",
      "  \"error\": null,\n",
      "  \"failedResources\": [],\n",
      "  \"id\": \"/subscriptions/7f1f09f1-46c7-4d90-b00b-e69d5fb05c28/resourceGroups/stacks/providers/Microsoft.Resources/deploymentStacks/stack1\",\n",
      "  \"location\": null,\n",
      "  \"name\": \"stack1\",\n",
      "  \"outputs\": null,\n",
      "  \"parameters\": {},\n",
      "  \"parametersLink\": null,\n",
      "  \"provisioningState\": \"succeeded\",\n",
      "  \"resourceGroup\": \"stacks\",\n",
      "  \"resources\": [\n",
      "    {\n",
      "      \"denyStatus\": \"none\",\n",
      "      \"id\": \"/subscriptions/7f1f09f1-46c7-4d90-b00b-e69d5fb05c28/resourceGroups/stacks/providers/Microsoft.Storage/storageAccounts/cldrpblcmvlfunc1stor\",\n",
      "      \"resourceGroup\": \"stacks\",\n",
      "      \"status\": \"managed\"\n",
      "    },\n",
      "    {\n",
      "      \"denyStatus\": \"none\",\n",
      "      \"id\": \"/subscriptions/7f1f09f1-46c7-4d90-b00b-e69d5fb05c28/resourceGroups/stacks/providers/Microsoft.Storage/storageAccounts/cldrpblcmvlfunc1stor/fileServices/default\",\n",
      "      \"resourceGroup\": \"stacks\",\n",
      "      \"status\": \"managed\"\n",
      "    },\n",
      "    {\n",
      "      \"denyStatus\": \"none\",\n",
      "      \"id\": \"/subscriptions/7f1f09f1-46c7-4d90-b00b-e69d5fb05c28/resourceGroups/stacks/providers/Microsoft.Storage/storageAccounts/cldrpblcmvlfunc1stor/tableServices/default\",\n",
      "      \"resourceGroup\": \"stacks\",\n",
      "      \"status\": \"managed\"\n",
      "    },\n",
      "    {\n",
      "      \"denyStatus\": \"none\",\n",
      "      \"id\": \"/subscriptions/7f1f09f1-46c7-4d90-b00b-e69d5fb05c28/resourceGroups/stacks/providers/Microsoft.Web/serverfarms/cldrpblcmvlfunc1plan\",\n",
      "      \"resourceGroup\": \"stacks\",\n",
      "      \"status\": \"managed\"\n",
      "    },\n",
      "    {\n",
      "      \"denyStatus\": \"none\",\n",
      "      \"id\": \"/subscriptions/7f1f09f1-46c7-4d90-b00b-e69d5fb05c28/resourceGroups/stacks/providers/Microsoft.Web/sites/cldrpblcmvlfunc1\",\n",
      "      \"resourceGroup\": \"stacks\",\n",
      "      \"status\": \"managed\"\n",
      "    },\n",
      "    {\n",
      "      \"denyStatus\": \"none\",\n",
      "      \"id\": \"/subscriptions/7f1f09f1-46c7-4d90-b00b-e69d5fb05c28/resourceGroups/stacks/providers/Microsoft.Web/sites/cldrpblcmvlfunc1/slots/staging\",\n",
      "      \"resourceGroup\": \"stacks\",\n",
      "      \"status\": \"managed\"\n",
      "    }\n",
      "  ],\n",
      "  \"systemData\": {\n",
      "    \"createdAt\": \"2024-03-13T21:43:58.454061+00:00\",\n",
      "    \"createdBy\": \"ce5c6e35-af05-47f4-91c2-e0cf4b7fd42b\",\n",
      "    \"createdByType\": \"Application\",\n",
      "    \"lastModifiedAt\": \"2024-03-15T08:06:12.438016+00:00\",\n",
      "    \"lastModifiedBy\": \"ce5c6e35-af05-47f4-91c2-e0cf4b7fd42b\",\n",
      "    \"lastModifiedByType\": \"Application\"\n",
      "  },\n",
      "  \"tags\": {},\n",
      "  \"template\": null,\n",
      "  \"templateLink\": null,\n",
      "  \"type\": \"Microsoft.Resources/deploymentStacks\"\n",
      "}\n"
     ]
    }
   ],
   "source": [
    "!az stack group create --name 'stack1' --resource-group 'stacks' --template-file './originals/deployment_1.bicep' --description 'First azure function' --deny-settings-mode None --delete-resources true --yes"
   ]
  },
  {
   "cell_type": "code",
   "execution_count": 22,
   "metadata": {
    "vscode": {
     "languageId": "shellscript"
    }
   },
   "outputs": [
    {
     "name": "stdout",
     "output_type": "stream",
     "text": [
      "\u001b[93mA new Bicep release is available: v0.26.54. Upgrade now by running \"az bicep upgrade\".\u001b[0m\n",
      "\u001b[93m/Users/martinligtenberg/repos/deployment-stacks-example/originals/deployment_2.bicep(6,15) : Warning no-loc-expr-outside-params: Use a parameter here instead of 'resourceGroup().location'. 'resourceGroup().location' and 'deployment().location' should only be used as a default value for parameters. [https://aka.ms/bicep/linter/no-loc-expr-outside-params]\n",
      "\u001b[0m\n",
      "\u001b[K{\\ Finished ..\n",
      "  \"actionOnUnmanage\": {\n",
      "    \"managementGroups\": \"detach\",\n",
      "    \"resourceGroups\": \"detach\",\n",
      "    \"resources\": \"delete\"\n",
      "  },\n",
      "  \"debugSetting\": null,\n",
      "  \"deletedResources\": [],\n",
      "  \"denySettings\": {\n",
      "    \"applyToChildScopes\": false,\n",
      "    \"excludedActions\": null,\n",
      "    \"excludedPrincipals\": null,\n",
      "    \"mode\": \"none\"\n",
      "  },\n",
      "  \"deploymentId\": \"/subscriptions/7f1f09f1-46c7-4d90-b00b-e69d5fb05c28/resourceGroups/stacks/providers/Microsoft.Resources/deployments/stack2-240315082h0x5\",\n",
      "  \"deploymentScope\": null,\n",
      "  \"description\": \"Second azure function\",\n",
      "  \"detachedResources\": [],\n",
      "  \"duration\": \"PT43.7933161S\",\n",
      "  \"error\": null,\n",
      "  \"failedResources\": [],\n",
      "  \"id\": \"/subscriptions/7f1f09f1-46c7-4d90-b00b-e69d5fb05c28/resourceGroups/stacks/providers/Microsoft.Resources/deploymentStacks/stack2\",\n",
      "  \"location\": null,\n",
      "  \"name\": \"stack2\",\n",
      "  \"outputs\": null,\n",
      "  \"parameters\": {},\n",
      "  \"parametersLink\": null,\n",
      "  \"provisioningState\": \"succeeded\",\n",
      "  \"resourceGroup\": \"stacks\",\n",
      "  \"resources\": [\n",
      "    {\n",
      "      \"denyStatus\": \"none\",\n",
      "      \"id\": \"/subscriptions/7f1f09f1-46c7-4d90-b00b-e69d5fb05c28/resourceGroups/stacks/providers/Microsoft.Storage/storageAccounts/cldrpblcmvlfunc2stor\",\n",
      "      \"resourceGroup\": \"stacks\",\n",
      "      \"status\": \"managed\"\n",
      "    },\n",
      "    {\n",
      "      \"denyStatus\": \"none\",\n",
      "      \"id\": \"/subscriptions/7f1f09f1-46c7-4d90-b00b-e69d5fb05c28/resourceGroups/stacks/providers/Microsoft.Storage/storageAccounts/cldrpblcmvlfunc2stor/fileServices/default\",\n",
      "      \"resourceGroup\": \"stacks\",\n",
      "      \"status\": \"managed\"\n",
      "    },\n",
      "    {\n",
      "      \"denyStatus\": \"none\",\n",
      "      \"id\": \"/subscriptions/7f1f09f1-46c7-4d90-b00b-e69d5fb05c28/resourceGroups/stacks/providers/Microsoft.Storage/storageAccounts/cldrpblcmvlfunc2stor/tableServices/default\",\n",
      "      \"resourceGroup\": \"stacks\",\n",
      "      \"status\": \"managed\"\n",
      "    },\n",
      "    {\n",
      "      \"denyStatus\": \"none\",\n",
      "      \"id\": \"/subscriptions/7f1f09f1-46c7-4d90-b00b-e69d5fb05c28/resourceGroups/stacks/providers/Microsoft.Web/serverfarms/cldrpblcmvlfunc2plan\",\n",
      "      \"resourceGroup\": \"stacks\",\n",
      "      \"status\": \"managed\"\n",
      "    },\n",
      "    {\n",
      "      \"denyStatus\": \"none\",\n",
      "      \"id\": \"/subscriptions/7f1f09f1-46c7-4d90-b00b-e69d5fb05c28/resourceGroups/stacks/providers/Microsoft.Web/sites/cldrpblcmvlfunc2\",\n",
      "      \"resourceGroup\": \"stacks\",\n",
      "      \"status\": \"managed\"\n",
      "    },\n",
      "    {\n",
      "      \"denyStatus\": \"none\",\n",
      "      \"id\": \"/subscriptions/7f1f09f1-46c7-4d90-b00b-e69d5fb05c28/resourceGroups/stacks/providers/Microsoft.Web/sites/cldrpblcmvlfunc2/slots/staging\",\n",
      "      \"resourceGroup\": \"stacks\",\n",
      "      \"status\": \"managed\"\n",
      "    }\n",
      "  ],\n",
      "  \"systemData\": {\n",
      "    \"createdAt\": \"2024-03-13T18:38:27.758937+00:00\",\n",
      "    \"createdBy\": \"m.Ligtenberg@caesar.nl\",\n",
      "    \"createdByType\": \"User\",\n",
      "    \"lastModifiedAt\": \"2024-03-15T08:08:27.491134+00:00\",\n",
      "    \"lastModifiedBy\": \"ce5c6e35-af05-47f4-91c2-e0cf4b7fd42b\",\n",
      "    \"lastModifiedByType\": \"Application\"\n",
      "  },\n",
      "  \"tags\": {},\n",
      "  \"template\": null,\n",
      "  \"templateLink\": null,\n",
      "  \"type\": \"Microsoft.Resources/deploymentStacks\"\n",
      "}\n"
     ]
    }
   ],
   "source": [
    "!az stack group create --name 'stack2' --resource-group 'stacks' --template-file './originals/deployment_2.bicep' --description 'Second azure function' --deny-settings-mode None --delete-resources true --yes"
   ]
  },
  {
   "cell_type": "code",
   "execution_count": 23,
   "metadata": {
    "vscode": {
     "languageId": "shellscript"
    }
   },
   "outputs": [
    {
     "name": "stdout",
     "output_type": "stream",
     "text": [
      "\u001b[93mA new Bicep release is available: v0.26.54. Upgrade now by running \"az bicep upgrade\".\u001b[0m\n",
      "\u001b[K / Finished ..{\n",
      "  \"actionOnUnmanage\": {\n",
      "    \"managementGroups\": \"detach\",\n",
      "    \"resourceGroups\": \"detach\",\n",
      "    \"resources\": \"delete\"\n",
      "  },\n",
      "  \"debugSetting\": null,\n",
      "  \"deletedResources\": [],\n",
      "  \"denySettings\": {\n",
      "    \"applyToChildScopes\": false,\n",
      "    \"excludedActions\": null,\n",
      "    \"excludedPrincipals\": null,\n",
      "    \"mode\": \"none\"\n",
      "  },\n",
      "  \"deploymentId\": \"/subscriptions/7f1f09f1-46c7-4d90-b00b-e69d5fb05c28/resourceGroups/stacks/providers/Microsoft.Resources/deployments/stack3-2403150833oew\",\n",
      "  \"deploymentScope\": null,\n",
      "  \"description\": \"Third azure function\",\n",
      "  \"detachedResources\": [],\n",
      "  \"duration\": \"PT1M13.8212947S\",\n",
      "  \"error\": null,\n",
      "  \"failedResources\": [],\n",
      "  \"id\": \"/subscriptions/7f1f09f1-46c7-4d90-b00b-e69d5fb05c28/resourceGroups/stacks/providers/Microsoft.Resources/deploymentStacks/stack3\",\n",
      "  \"location\": null,\n",
      "  \"name\": \"stack3\",\n",
      "  \"outputs\": null,\n",
      "  \"parameters\": {},\n",
      "  \"parametersLink\": null,\n",
      "  \"provisioningState\": \"succeeded\",\n",
      "  \"resourceGroup\": \"stacks\",\n",
      "  \"resources\": [\n",
      "    {\n",
      "      \"denyStatus\": \"none\",\n",
      "      \"id\": \"/subscriptions/7f1f09f1-46c7-4d90-b00b-e69d5fb05c28/resourceGroups/stacks/providers/Microsoft.Storage/storageAccounts/cldrpblcmvlfunc3stor\",\n",
      "      \"resourceGroup\": \"stacks\",\n",
      "      \"status\": \"managed\"\n",
      "    },\n",
      "    {\n",
      "      \"denyStatus\": \"none\",\n",
      "      \"id\": \"/subscriptions/7f1f09f1-46c7-4d90-b00b-e69d5fb05c28/resourceGroups/stacks/providers/Microsoft.Storage/storageAccounts/cldrpblcmvlfunc3stor/fileServices/default\",\n",
      "      \"resourceGroup\": \"stacks\",\n",
      "      \"status\": \"managed\"\n",
      "    },\n",
      "    {\n",
      "      \"denyStatus\": \"none\",\n",
      "      \"id\": \"/subscriptions/7f1f09f1-46c7-4d90-b00b-e69d5fb05c28/resourceGroups/stacks/providers/Microsoft.Storage/storageAccounts/cldrpblcmvlfunc3stor/tableServices/default\",\n",
      "      \"resourceGroup\": \"stacks\",\n",
      "      \"status\": \"managed\"\n",
      "    },\n",
      "    {\n",
      "      \"denyStatus\": \"none\",\n",
      "      \"id\": \"/subscriptions/7f1f09f1-46c7-4d90-b00b-e69d5fb05c28/resourceGroups/stacks/providers/Microsoft.Web/serverfarms/cldrpblcmvlfunc3plan\",\n",
      "      \"resourceGroup\": \"stacks\",\n",
      "      \"status\": \"managed\"\n",
      "    },\n",
      "    {\n",
      "      \"denyStatus\": \"none\",\n",
      "      \"id\": \"/subscriptions/7f1f09f1-46c7-4d90-b00b-e69d5fb05c28/resourceGroups/stacks/providers/Microsoft.Web/sites/cldrpblcmvlfunc3\",\n",
      "      \"resourceGroup\": \"stacks\",\n",
      "      \"status\": \"managed\"\n",
      "    },\n",
      "    {\n",
      "      \"denyStatus\": \"none\",\n",
      "      \"id\": \"/subscriptions/7f1f09f1-46c7-4d90-b00b-e69d5fb05c28/resourceGroups/stacks/providers/Microsoft.Web/sites/cldrpblcmvlfunc3/slots/staging\",\n",
      "      \"resourceGroup\": \"stacks\",\n",
      "      \"status\": \"managed\"\n",
      "    }\n",
      "  ],\n",
      "  \"systemData\": {\n",
      "    \"createdAt\": \"2024-03-14T10:02:21.505636+00:00\",\n",
      "    \"createdBy\": \"ce5c6e35-af05-47f4-91c2-e0cf4b7fd42b\",\n",
      "    \"createdByType\": \"Application\",\n",
      "    \"lastModifiedAt\": \"2024-03-15T08:10:36.939098+00:00\",\n",
      "    \"lastModifiedBy\": \"ce5c6e35-af05-47f4-91c2-e0cf4b7fd42b\",\n",
      "    \"lastModifiedByType\": \"Application\"\n",
      "  },\n",
      "  \"tags\": {},\n",
      "  \"template\": null,\n",
      "  \"templateLink\": null,\n",
      "  \"type\": \"Microsoft.Resources/deploymentStacks\"\n",
      "}\n"
     ]
    }
   ],
   "source": [
    "!az stack group create --name 'stack3' --resource-group 'stacks' --template-file './originals/deployment_3.bicep' --description 'Third azure function' --deny-settings-mode None --delete-resources true --yes"
   ]
  },
  {
   "cell_type": "markdown",
   "metadata": {},
   "source": [
    "## On edit\n",
    "The commands below show what happens if something gets edited\n",
    "\n",
    "  \n",
    "  "
   ]
  },
  {
   "cell_type": "code",
   "execution_count": null,
   "metadata": {
    "vscode": {
     "languageId": "shellscript"
    }
   },
   "outputs": [],
   "source": [
    "!az stack group create --name 'stack1' --resource-group 'stacks' --template-file './edited/deployment_1.bicep' --deny-settings-mode None --delete-resources true --yes"
   ]
  },
  {
   "cell_type": "code",
   "execution_count": null,
   "metadata": {
    "vscode": {
     "languageId": "shellscript"
    }
   },
   "outputs": [],
   "source": [
    "!az stack group create --name 'stack3' --resource-group 'stacks' --template-file './edited/deployment_3.bicep' --deny-settings-mode None --delete-resources true --yes"
   ]
  },
  {
   "cell_type": "markdown",
   "metadata": {},
   "source": [
    "## Security\n",
    "\n",
    "Protect your resources against manual interventions"
   ]
  },
  {
   "cell_type": "code",
   "execution_count": null,
   "metadata": {
    "vscode": {
     "languageId": "shellscript"
    }
   },
   "outputs": [],
   "source": [
    "!az stack group create --name 'stack1' --resource-group 'stacks' -- './edited/deployment_1.bicep' --deny-settings-mode denyDelete --delete-resources true --yes"
   ]
  },
  {
   "cell_type": "code",
   "execution_count": null,
   "metadata": {
    "vscode": {
     "languageId": "shellscript"
    }
   },
   "outputs": [],
   "source": [
    "!az stack group create --name 'stack3' --resource-group 'stacks' --template-file './originals/deployment_3.bicep' --deny-settings-mode denyWriteAndDelete --delete-resources true --yes"
   ]
  },
  {
   "cell_type": "markdown",
   "metadata": {},
   "source": [
    "### But wait\n",
    "we cannot edit the settings now"
   ]
  },
  {
   "cell_type": "code",
   "execution_count": null,
   "metadata": {
    "vscode": {
     "languageId": "shellscript"
    }
   },
   "outputs": [],
   "source": [
    "!az functionapp deployment slot swap --name 'cldrpblcmvlfunc3' --resource-group 'stacks' --slot 'staging' --target-slot 'production'\n"
   ]
  },
  {
   "cell_type": "markdown",
   "metadata": {},
   "source": [
    "#### How to fix it\n",
    "use a deny"
   ]
  },
  {
   "cell_type": "code",
   "execution_count": null,
   "metadata": {
    "vscode": {
     "languageId": "shellscript"
    }
   },
   "outputs": [],
   "source": [
    "!az stack group delete -g stacks -n stack3 --yes\n",
    "!az stack group create --name 'stack3' --delete-resources true --resource-group 'stacks' --template-file './originals/deployment_3.bicep' --deny-settings-mode denyWriteAndDelete --yes --deny-settings-excluded-principals '2dc1f380-efdc-4800-ab4c-cc02622051d8'"
   ]
  },
  {
   "cell_type": "markdown",
   "metadata": {},
   "source": [
    "### Locking the stack\n",
    "Make sure nobody can delete the stack"
   ]
  },
  {
   "cell_type": "code",
   "execution_count": null,
   "metadata": {
    "vscode": {
     "languageId": "shellscript"
    }
   },
   "outputs": [],
   "source": [
    "!az resource lock create --lock-type CanNotDelete --name lockStack1 --resource /subscriptions/7f1f09f1-46c7-4d90-b00b-e69d5fb05c28/resourceGroups/stacks/providers/Microsoft.Resources/deploymentStacks/stack1"
   ]
  },
  {
   "cell_type": "code",
   "execution_count": null,
   "metadata": {
    "vscode": {
     "languageId": "shellscript"
    }
   },
   "outputs": [],
   "source": [
    "!az resource lock delete --name lockStack1 --resource /subscriptions/7f1f09f1-46c7-4d90-b00b-e69d5fb05c28/resourceGroups/stacks/providers/Microsoft.Resources/deploymentStacks/stack1"
   ]
  },
  {
   "cell_type": "markdown",
   "metadata": {},
   "source": [
    "## Exporting templates\n",
    "Recover an deployed template"
   ]
  },
  {
   "cell_type": "code",
   "execution_count": null,
   "metadata": {
    "vscode": {
     "languageId": "shellscript"
    }
   },
   "outputs": [],
   "source": [
    "!az stack group export --resource-group 'stacks' --name 'stack1'"
   ]
  }
 ],
 "metadata": {
  "kernelspec": {
   "display_name": "Python 3",
   "language": "python",
   "name": "python3"
  },
  "language_info": {
   "codemirror_mode": {
    "name": "ipython",
    "version": 3
   },
   "file_extension": ".py",
   "mimetype": "text/x-python",
   "name": "python",
   "nbconvert_exporter": "python",
   "pygments_lexer": "ipython3",
   "version": "3.12.2"
  }
 },
 "nbformat": 4,
 "nbformat_minor": 2
}
